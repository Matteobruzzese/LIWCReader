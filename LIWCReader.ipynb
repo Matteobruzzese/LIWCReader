{
 "cells": [
  {
   "cell_type": "code",
   "execution_count": 76,
   "metadata": {},
   "outputs": [],
   "source": [
    "f=open('LIWC2007_English080730_Edit.txt', 'r')"
   ]
  },
  {
   "cell_type": "code",
   "execution_count": 77,
   "metadata": {},
   "outputs": [],
   "source": [
    "f1= f.readlines()"
   ]
  },
  {
   "cell_type": "code",
   "execution_count": 78,
   "metadata": {},
   "outputs": [],
   "source": [
    "dimensions={}\n",
    "\n",
    "for x in f1:\n",
    "    if (x!='%\\n'):\n",
    "        dimensions[int(x.split(\"\\t\")[0])]= x.split(\"\\t\")[1].split('\\n')[0]\n",
    "    else:\n",
    "        break\n",
    "        \n",
    "        "
   ]
  },
  {
   "cell_type": "code",
   "execution_count": 79,
   "metadata": {},
   "outputs": [],
   "source": [
    "words={}\n",
    "\n",
    "for x in range(77,len(f1)):\n",
    "    dim=[]\n",
    "    j= f1[x].split('\\t')\n",
    "    for l in range(1,len(j)):\n",
    "        if(l==len(j)-1):\n",
    "               dim.append(j[l].split('\\n')[0])\n",
    "        else:\n",
    "               dim.append(j[l])\n",
    "    words[j[0].split('*')[0]]=dim\n",
    "                       "
   ]
  },
  {
   "cell_type": "code",
   "execution_count": 80,
   "metadata": {},
   "outputs": [],
   "source": [
    "def sentiments(sentence, dims, words):\n",
    "    for key in words:\n",
    "        if key in sentence:\n",
    "            for dim in words[key]:\n",
    "                print(dims[int(dim)])\n",
    "                print('\\n')\n",
    "    "
   ]
  },
  {
   "cell_type": "code",
   "execution_count": 81,
   "metadata": {},
   "outputs": [
    {
     "name": "stdout",
     "output_type": "stream",
     "text": [
      "allpunct\n",
      "\n",
      "\n",
      "otherpunct\n",
      "\n",
      "\n",
      "verb\n",
      "\n",
      "\n",
      "present\n",
      "\n",
      "\n",
      "affect\n",
      "\n",
      "\n",
      "posemo\n",
      "\n",
      "\n",
      "bio\n",
      "\n",
      "\n",
      "sexual\n",
      "\n",
      "\n",
      "social\n",
      "\n",
      "\n"
     ]
    }
   ],
   "source": [
    "sentiments('love',dimensions,words)"
   ]
  }
 ],
 "metadata": {
  "kernelspec": {
   "display_name": "Python 3",
   "language": "python",
   "name": "python3"
  },
  "language_info": {
   "codemirror_mode": {
    "name": "ipython",
    "version": 3
   },
   "file_extension": ".py",
   "mimetype": "text/x-python",
   "name": "python",
   "nbconvert_exporter": "python",
   "pygments_lexer": "ipython3",
   "version": "3.7.3"
  }
 },
 "nbformat": 4,
 "nbformat_minor": 2
}
